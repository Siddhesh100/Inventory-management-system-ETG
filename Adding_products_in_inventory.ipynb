{
  "nbformat": 4,
  "nbformat_minor": 0,
  "metadata": {
    "colab": {
      "name": "Adding_products_in_inventory.ipynb",
      "provenance": []
    },
    "kernelspec": {
      "name": "python3",
      "display_name": "Python 3"
    },
    "language_info": {
      "name": "python"
    }
  },
  "cells": [
    {
      "cell_type": "markdown",
      "metadata": {
        "id": "szdSdYOxexEs"
      },
      "source": [
        "# Read products in inventory"
      ]
    },
    {
      "cell_type": "code",
      "metadata": {
        "colab": {
          "base_uri": "https://localhost:8080/"
        },
        "id": "IXZNhnV0fOVl",
        "outputId": "1eca858d-4a34-4620-cd52-13fe9139f7a7"
      },
      "source": [
        "import json\n",
        "fd=open(\"records.json\",\"r\")\n",
        "js=fd.read()\n",
        "fd.close()\n",
        " \n",
        "records=json.loads(js)\n",
        "print(records)"
      ],
      "execution_count": null,
      "outputs": [
        {
          "output_type": "stream",
          "name": "stdout",
          "text": [
            "{'1001': {'Name': 'Choco Cake', 'Price': 100, 'Quantities': 34}, '1002': {'Name': 'Milk Cake', 'Price': 800, 'Quantities': 100}, '1003': {'Name': 'Drink', 'Price': 85, 'Quantities': 100}, '1004': {'Name': 'Candy', 'Price': 5, 'Quantities': 1000}, '1005': {'Name': 'Pen', 'Price': 20, 'Quantities': 100}, '1006': {'Name': 'Pencil', 'Price': 3, 'Quantities': 80}}\n"
          ]
        }
      ]
    },
    {
      "cell_type": "markdown",
      "metadata": {
        "id": "90Xy91A1gX9f"
      },
      "source": [
        "# Adding products in inventory"
      ]
    },
    {
      "cell_type": "code",
      "metadata": {
        "id": "trglz3MKgqVp",
        "colab": {
          "base_uri": "https://localhost:8080/"
        },
        "outputId": "59afa477-2bc8-41f5-c5f3-bde8bea6c123"
      },
      "source": [
        "n=int(input(\"Enter the number of products you want to add to the inventory:\"))\n",
        " \n",
        "for i in range(n):\n",
        "    pid = str(input(\"Enter product id:\"))\n",
        "    if pid in records.keys():\n",
        "        print(\"Entered product id already exists\")\n",
        "        break\n",
        "    else:\n",
        "        pn=str(input(\"Enter product name:\"))\n",
        "        pr=int(input(\"Enter product price:\"))\n",
        "        pq=int(input(\"Enter product quantities:\"))\n",
        "        cpd={pid:{\"Name\":pn,\"Price\":pr,\"Quantities\":pq}}\n",
        "        records.update(cpd)\n",
        "print(\"Inventory after adding products\")\n",
        "print(records)"
      ],
      "execution_count": null,
      "outputs": [
        {
          "output_type": "stream",
          "name": "stdout",
          "text": [
            "Enter the number of products you want to add to the inventory:2\n",
            "Enter product id:1007\n",
            "Enter product name:Laptop\n",
            "Enter product price:35000\n",
            "Enter product quantities:50\n",
            "Enter product id:1005\n",
            "Entered product id already exists\n",
            "Inventory after adding products\n",
            "{'1001': {'Name': 'Choco Cake', 'Price': 100, 'Quantities': 34}, '1002': {'Name': 'Milk Cake', 'Price': 800, 'Quantities': 100}, '1003': {'Name': 'Drink', 'Price': 85, 'Quantities': 100}, '1004': {'Name': 'Candy', 'Price': 5, 'Quantities': 1000}, '1005': {'Name': 'Pen', 'Price': 20, 'Quantities': 100}, '1006': {'Name': 'Pencil', 'Price': 3, 'Quantities': 80}, '1007': {'Name': 'Laptop', 'Price': 35000, 'Quantities': 50}}\n"
          ]
        }
      ]
    },
    {
      "cell_type": "markdown",
      "metadata": {
        "id": "72295cWGr6qf"
      },
      "source": [
        "# Update the json file"
      ]
    },
    {
      "cell_type": "code",
      "metadata": {
        "id": "NbmF_WhhsGnr"
      },
      "source": [
        "js=json.dumps(records)\n",
        "fd=open(\"records.json\",\"w\")\n",
        "fd.write(js)\n",
        "fd.close()"
      ],
      "execution_count": null,
      "outputs": []
    }
  ]
}