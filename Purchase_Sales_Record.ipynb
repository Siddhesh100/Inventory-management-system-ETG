{
  "nbformat": 4,
  "nbformat_minor": 0,
  "metadata": {
    "colab": {
      "name": "Purchase_Sales_Record.ipynb",
      "provenance": [],
      "collapsed_sections": []
    },
    "kernelspec": {
      "name": "python3",
      "display_name": "Python 3"
    },
    "language_info": {
      "name": "python"
    }
  },
  "cells": [
    {
      "cell_type": "markdown",
      "metadata": {
        "id": "OgXmcxlP-Nsd"
      },
      "source": [
        "# Read products in inventory"
      ]
    },
    {
      "cell_type": "code",
      "metadata": {
        "colab": {
          "base_uri": "https://localhost:8080/"
        },
        "id": "41bfw1Q9-Y0O",
        "outputId": "39499235-422c-4442-a7f8-d9a46af18956"
      },
      "source": [
        " \n",
        "import json\n",
        "fd=open(\"records.json\",\"r\")\n",
        "js=fd.read()\n",
        "fd.close()\n",
        "records=json.loads(js)\n",
        "print(records)"
      ],
      "execution_count": null,
      "outputs": [
        {
          "output_type": "stream",
          "name": "stdout",
          "text": [
            "{'1001': {'Name': 'Choco Cake', 'Price': 100, 'Quantities': 34}, '1002': {'Name': 'Milk Cake', 'Price': 800, 'Quantities': 100}, '1003': {'Name': 'Drink', 'Price': 85, 'Quantities': 100}, '1004': {'Name': 'Candy', 'Price': 5, 'Quantities': 1000}, '1005': {'Name': 'Pen', 'Price': 20, 'Quantities': 100}, '1006': {'Name': 'Pencil', 'Price': 3, 'Quantities': 80}}\n"
          ]
        }
      ]
    },
    {
      "cell_type": "markdown",
      "metadata": {
        "id": "CVdzAkke_S-T"
      },
      "source": [
        "# Purchase from inventory"
      ]
    },
    {
      "cell_type": "code",
      "metadata": {
        "id": "ltfXsr3K_gM8",
        "colab": {
          "base_uri": "https://localhost:8080/"
        },
        "outputId": "b8a6cc8a-6baf-4725-b17f-bd0712bfa928"
      },
      "source": [
        " \n",
        "pid  = str(input(\"Enter the product Id:\"))\n",
        "pq = int(input(\"Enter the product quantities:\"))\n",
        " \n",
        " \n",
        "print(\"Product: \", records[pid]['Name'])\n",
        "print(\"Price: \", records[pid]['Price'])\n",
        "print(\"Billing Amount: \", records[pid]['Price'] * pq)\n",
        " \n",
        "records[pid]['Quantities'] = records[pid]['Quantities'] - pq"
      ],
      "execution_count": null,
      "outputs": [
        {
          "output_type": "stream",
          "name": "stdout",
          "text": [
            "Enter the product Id:1001\n",
            "Enter the product quantities:2\n",
            "Product:  Choco Cake\n",
            "Price:  100\n",
            "Billing Amount:  200\n"
          ]
        }
      ]
    },
    {
      "cell_type": "markdown",
      "metadata": {
        "id": "6Z75z4whDKmZ"
      },
      "source": [
        "# Update inventory after purchase"
      ]
    },
    {
      "cell_type": "code",
      "metadata": {
        "id": "LajrvAnGDn9z",
        "colab": {
          "base_uri": "https://localhost:8080/"
        },
        "outputId": "777f9716-6f2f-49f2-d45e-4301fe967ee5"
      },
      "source": [
        "js=json.dumps(records)\n",
        "fd=open(\"records.json\",\"w\")\n",
        "fd.write(js)\n",
        "fd.close()\n",
        "print(js)"
      ],
      "execution_count": null,
      "outputs": [
        {
          "output_type": "stream",
          "name": "stdout",
          "text": [
            "{\"1001\": {\"Name\": \"Choco Cake\", \"Price\": 100, \"Quantities\": 32}, \"1002\": {\"Name\": \"Milk Cake\", \"Price\": 800, \"Quantities\": 100}, \"1003\": {\"Name\": \"Drink\", \"Price\": 85, \"Quantities\": 100}, \"1004\": {\"Name\": \"Candy\", \"Price\": 5, \"Quantities\": 1000}, \"1005\": {\"Name\": \"Pen\", \"Price\": 20, \"Quantities\": 100}, \"1006\": {\"Name\": \"Pencil\", \"Price\": 3, \"Quantities\": 80}}\n"
          ]
        }
      ]
    },
    {
      "cell_type": "markdown",
      "metadata": {
        "id": "0GjfbwK5EwSJ"
      },
      "source": [
        "# Sales JSON"
      ]
    },
    {
      "cell_type": "code",
      "metadata": {
        "id": "o71r_IjMKkVN",
        "colab": {
          "base_uri": "https://localhost:8080/"
        },
        "outputId": "98762d8c-e675-42db-ca2f-0044c2ec1ef3"
      },
      "source": [
        " {'Product' : pid, 'Quantities' : pq, 'Amount': records[pid]['Price'] * pq}"
      ],
      "execution_count": null,
      "outputs": [
        {
          "output_type": "execute_result",
          "data": {
            "text/plain": [
              "{'Amount': 200, 'Product': '1001', 'Quantities': 2}"
            ]
          },
          "metadata": {},
          "execution_count": 16
        }
      ]
    },
    {
      "cell_type": "code",
      "metadata": {
        "colab": {
          "base_uri": "https://localhost:8080/"
        },
        "id": "-GLpLexKL8Oe",
        "outputId": "dd7c4292-e15c-4d42-923e-31e583e48b85"
      },
      "source": [
        " sales={1:{'Product':pid,'Quantities':pq,'Amount':records[pid]['Price'] * pq},2:{'Product':pid,'Quantities':pq,'Amount':records[pid]['Price']*pq},3:{'Product':pid,'Quantities':pq,'Amount':records[pid]['Price']*pq}}\n",
        "print(type(sales))"
      ],
      "execution_count": null,
      "outputs": [
        {
          "output_type": "stream",
          "name": "stdout",
          "text": [
            "<class 'dict'>\n"
          ]
        }
      ]
    },
    {
      "cell_type": "markdown",
      "metadata": {
        "id": "cymI4HdfRWBp"
      },
      "source": [
        "# Update sales"
      ]
    },
    {
      "cell_type": "code",
      "metadata": {
        "id": "03CBLgC0PGsA"
      },
      "source": [
        "sale=json.dumps(sales)\n",
        "fd=open(\"sales.json\",\"w\")\n",
        "fd.write(sale)\n",
        "fd.close()"
      ],
      "execution_count": null,
      "outputs": []
    }
  ]
}